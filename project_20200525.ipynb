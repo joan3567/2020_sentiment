{
 "cells": [
  {
   "cell_type": "code",
   "execution_count": 1,
   "metadata": {},
   "outputs": [],
   "source": [
    "from collections import defaultdict\n",
    "import json\n",
    "import numpy as np\n",
    "import os\n",
    "import pandas as pd\n",
    "import csv\n",
    "import string\n",
    "from sklearn.model_selection import train_test_split\n",
    "from sklearn.feature_extraction.text import CountVectorizer\n",
    "from sklearn.neighbors import KNeighborsClassifier"
   ]
  },
  {
   "cell_type": "code",
   "execution_count": 2,
   "metadata": {},
   "outputs": [],
   "source": [
    "DATA_HOME = 'data'\n",
    "\n",
    "REVIEWDATA_HOME = os.path.join(DATA_HOME, 'amazon_reviews_us_Camera_v1_00.tsv')\n",
    "\n",
    "test = os.path.join(DATA_HOME, 'cs224u-colors-bakeoff-data.csv')\n",
    "\n",
    "\n",
    "# GLOVE_HOME = os.path.join(DATA_HOME, 'glove.6B')\n"
   ]
  },
  {
   "cell_type": "code",
   "execution_count": 3,
   "metadata": {},
   "outputs": [],
   "source": [
    "START_SYMBOL = \"<s>\"\n",
    "END_SYMBOL = \"</s>\"\n",
    "UNK_SYMBOL = \"$UNK\""
   ]
  },
  {
   "cell_type": "code",
   "execution_count": 4,
   "metadata": {},
   "outputs": [],
   "source": [
    "df = pd.read_csv(REVIEWDATA_HOME, sep='\\t',error_bad_lines=False, warn_bad_lines=False)\n"
   ]
  },
  {
   "cell_type": "code",
   "execution_count": 5,
   "metadata": {},
   "outputs": [
    {
     "data": {
      "text/plain": [
       "['marketplace',\n",
       " 'customer_id',\n",
       " 'review_id',\n",
       " 'product_id',\n",
       " 'product_parent',\n",
       " 'product_title',\n",
       " 'product_category',\n",
       " 'star_rating',\n",
       " 'helpful_votes',\n",
       " 'total_votes',\n",
       " 'vine',\n",
       " 'verified_purchase',\n",
       " 'review_headline',\n",
       " 'review_body',\n",
       " 'review_date']"
      ]
     },
     "execution_count": 5,
     "metadata": {},
     "output_type": "execute_result"
    }
   ],
   "source": [
    "df.columns.tolist()"
   ]
  },
  {
   "cell_type": "code",
   "execution_count": 6,
   "metadata": {},
   "outputs": [
    {
     "name": "stdout",
     "output_type": "stream",
     "text": [
      "(18008, 15)\n"
     ]
    },
    {
     "data": {
      "text/html": [
       "<div>\n",
       "<style scoped>\n",
       "    .dataframe tbody tr th:only-of-type {\n",
       "        vertical-align: middle;\n",
       "    }\n",
       "\n",
       "    .dataframe tbody tr th {\n",
       "        vertical-align: top;\n",
       "    }\n",
       "\n",
       "    .dataframe thead th {\n",
       "        text-align: right;\n",
       "    }\n",
       "</style>\n",
       "<table border=\"1\" class=\"dataframe\">\n",
       "  <thead>\n",
       "    <tr style=\"text-align: right;\">\n",
       "      <th></th>\n",
       "      <th>marketplace</th>\n",
       "      <th>customer_id</th>\n",
       "      <th>review_id</th>\n",
       "      <th>product_id</th>\n",
       "      <th>product_parent</th>\n",
       "      <th>product_title</th>\n",
       "      <th>product_category</th>\n",
       "      <th>star_rating</th>\n",
       "      <th>helpful_votes</th>\n",
       "      <th>total_votes</th>\n",
       "      <th>vine</th>\n",
       "      <th>verified_purchase</th>\n",
       "      <th>review_headline</th>\n",
       "      <th>review_body</th>\n",
       "      <th>review_date</th>\n",
       "    </tr>\n",
       "  </thead>\n",
       "  <tbody>\n",
       "    <tr>\n",
       "      <th>0</th>\n",
       "      <td>US</td>\n",
       "      <td>12491786</td>\n",
       "      <td>R1C0EVYBV2Z18Z</td>\n",
       "      <td>B000U92DLA</td>\n",
       "      <td>845576079</td>\n",
       "      <td>Kastar Camera &amp; Camcorder Battery Home Travel ...</td>\n",
       "      <td>Camera</td>\n",
       "      <td>5</td>\n",
       "      <td>6</td>\n",
       "      <td>6</td>\n",
       "      <td>N</td>\n",
       "      <td>Y</td>\n",
       "      <td>A Must For On The Go</td>\n",
       "      <td>Purchased the charger from Nextop2100, arrived...</td>\n",
       "      <td>2008-11-22</td>\n",
       "    </tr>\n",
       "    <tr>\n",
       "      <th>1</th>\n",
       "      <td>US</td>\n",
       "      <td>37280009</td>\n",
       "      <td>R3Q837V78NS6B9</td>\n",
       "      <td>B0008GCYNW</td>\n",
       "      <td>615481480</td>\n",
       "      <td>Olympus Camedia C755 4MP Digital Camera with 1...</td>\n",
       "      <td>Camera</td>\n",
       "      <td>3</td>\n",
       "      <td>15</td>\n",
       "      <td>17</td>\n",
       "      <td>N</td>\n",
       "      <td>Y</td>\n",
       "      <td>The Good and the Not-so Good</td>\n",
       "      <td>I was attracted to this camera for three reaso...</td>\n",
       "      <td>2005-09-08</td>\n",
       "    </tr>\n",
       "    <tr>\n",
       "      <th>2</th>\n",
       "      <td>US</td>\n",
       "      <td>16532896</td>\n",
       "      <td>R22CZCJH5YNX1O</td>\n",
       "      <td>B003CZ7L84</td>\n",
       "      <td>884672402</td>\n",
       "      <td>Intova CP-9 Compact Digital Camera with 130 fe...</td>\n",
       "      <td>Camera</td>\n",
       "      <td>4</td>\n",
       "      <td>1</td>\n",
       "      <td>1</td>\n",
       "      <td>N</td>\n",
       "      <td>Y</td>\n",
       "      <td>Great for what we paid!</td>\n",
       "      <td>We took it with us to Cancun. My husband took ...</td>\n",
       "      <td>2011-11-02</td>\n",
       "    </tr>\n",
       "  </tbody>\n",
       "</table>\n",
       "</div>"
      ],
      "text/plain": [
       "  marketplace  customer_id       review_id  product_id  product_parent  \\\n",
       "0          US     12491786  R1C0EVYBV2Z18Z  B000U92DLA       845576079   \n",
       "1          US     37280009  R3Q837V78NS6B9  B0008GCYNW       615481480   \n",
       "2          US     16532896  R22CZCJH5YNX1O  B003CZ7L84       884672402   \n",
       "\n",
       "                                       product_title product_category  \\\n",
       "0  Kastar Camera & Camcorder Battery Home Travel ...           Camera   \n",
       "1  Olympus Camedia C755 4MP Digital Camera with 1...           Camera   \n",
       "2  Intova CP-9 Compact Digital Camera with 130 fe...           Camera   \n",
       "\n",
       "   star_rating  helpful_votes  total_votes vine verified_purchase  \\\n",
       "0            5              6            6    N                 Y   \n",
       "1            3             15           17    N                 Y   \n",
       "2            4              1            1    N                 Y   \n",
       "\n",
       "                review_headline  \\\n",
       "0          A Must For On The Go   \n",
       "1  The Good and the Not-so Good   \n",
       "2       Great for what we paid!   \n",
       "\n",
       "                                         review_body review_date  \n",
       "0  Purchased the charger from Nextop2100, arrived...  2008-11-22  \n",
       "1  I was attracted to this camera for three reaso...  2005-09-08  \n",
       "2  We took it with us to Cancun. My husband took ...  2011-11-02  "
      ]
     },
     "execution_count": 6,
     "metadata": {},
     "output_type": "execute_result"
    }
   ],
   "source": [
    "# Randomly select a small portion of the entire dataset for model implementation to save computation time\n",
    "small_df = df.sample(frac=0.01, random_state=1).reset_index(drop=True)\n",
    "print(small_df.shape)\n",
    "small_df.head(3)"
   ]
  },
  {
   "cell_type": "code",
   "execution_count": 7,
   "metadata": {},
   "outputs": [
    {
     "name": "stdout",
     "output_type": "stream",
     "text": [
      "# of positive reviews and negative reviews: \n"
     ]
    },
    {
     "name": "stderr",
     "output_type": "stream",
     "text": [
      "C:\\Users\\Public\\Miniconda3\\envs\\nlu\\lib\\site-packages\\ipykernel_launcher.py:9: SettingWithCopyWarning: \n",
      "A value is trying to be set on a copy of a slice from a DataFrame.\n",
      "Try using .loc[row_indexer,col_indexer] = value instead\n",
      "\n",
      "See the caveats in the documentation: https://pandas.pydata.org/pandas-docs/stable/user_guide/indexing.html#returning-a-view-versus-a-copy\n",
      "  if __name__ == '__main__':\n"
     ]
    },
    {
     "data": {
      "text/plain": [
       "1    13925\n",
       "0     4083\n",
       "Name: pos_neg, dtype: int64"
      ]
     },
     "execution_count": 7,
     "metadata": {},
     "output_type": "execute_result"
    }
   ],
   "source": [
    "# Select features that may by useful for model training\n",
    "features = ['product_id', 'star_rating', 'helpful_votes', 'total_votes', 'verified_purchase', 'review_headline', 'review_body']\n",
    "small_df_selectedFeatures = small_df[features]\n",
    "\n",
    "# Convert 5-star ratings into 2 (positive and negative) or 3 (positive, neutral and negative) classes\n",
    "def starRating_to_PosNegClass(dataset, num_class):\n",
    "    if num_class == 2:    \n",
    "        # Negative reviews: 1-3 Stars = 0 ; Positive reviews: 4-5 Stars = 1\n",
    "        dataset['pos_neg'] = [1 if x > 3 else 0 for x in dataset.star_rating]\n",
    "    if num_class == 3: \n",
    "        # Negative reviews: 1-2 Stars = -1 ; Positive reviews: 4-5 Stars = 1 ; Neutral Reviews: 3 Stars = 0\n",
    "        dataset['pos_neg_1'] = [1 if x > 3 else 0 for x in dataset.star_rating] \n",
    "        dataset['pos_neg_2'] = [-1 if x < 3 else 0 for x in dataset.star_rating] \n",
    "        dataset['pos_neg'] = (dataset['pos_neg_1'] + dataset['pos_neg_2'])\n",
    "        dataset.drop(['pos_neg_1', 'pos_neg_2'], axis=1)\n",
    "    return dataset\n",
    "\n",
    "\n",
    "small_df_selectedFeatures = starRating_to_PosNegClass(small_df_selectedFeatures, num_class=2)\n",
    "print('# of positive reviews and negative reviews: ')\n",
    "small_df_selectedFeatures['pos_neg'].value_counts()"
   ]
  },
  {
   "cell_type": "code",
   "execution_count": 8,
   "metadata": {},
   "outputs": [
    {
     "data": {
      "text/html": [
       "<div>\n",
       "<style scoped>\n",
       "    .dataframe tbody tr th:only-of-type {\n",
       "        vertical-align: middle;\n",
       "    }\n",
       "\n",
       "    .dataframe tbody tr th {\n",
       "        vertical-align: top;\n",
       "    }\n",
       "\n",
       "    .dataframe thead th {\n",
       "        text-align: right;\n",
       "    }\n",
       "</style>\n",
       "<table border=\"1\" class=\"dataframe\">\n",
       "  <thead>\n",
       "    <tr style=\"text-align: right;\">\n",
       "      <th></th>\n",
       "      <th>product_id</th>\n",
       "      <th>star_rating</th>\n",
       "      <th>helpful_votes</th>\n",
       "      <th>total_votes</th>\n",
       "      <th>verified_purchase</th>\n",
       "      <th>review_headline</th>\n",
       "      <th>review_body</th>\n",
       "      <th>pos_neg</th>\n",
       "    </tr>\n",
       "  </thead>\n",
       "  <tbody>\n",
       "    <tr>\n",
       "      <th>0</th>\n",
       "      <td>B000U92DLA</td>\n",
       "      <td>5</td>\n",
       "      <td>6</td>\n",
       "      <td>6</td>\n",
       "      <td>Y</td>\n",
       "      <td>A Must For On The Go</td>\n",
       "      <td>Purchased the charger from Nextop2100, arrived...</td>\n",
       "      <td>1</td>\n",
       "    </tr>\n",
       "    <tr>\n",
       "      <th>1</th>\n",
       "      <td>B0008GCYNW</td>\n",
       "      <td>3</td>\n",
       "      <td>15</td>\n",
       "      <td>17</td>\n",
       "      <td>Y</td>\n",
       "      <td>The Good and the Not-so Good</td>\n",
       "      <td>I was attracted to this camera for three reaso...</td>\n",
       "      <td>0</td>\n",
       "    </tr>\n",
       "    <tr>\n",
       "      <th>2</th>\n",
       "      <td>B003CZ7L84</td>\n",
       "      <td>4</td>\n",
       "      <td>1</td>\n",
       "      <td>1</td>\n",
       "      <td>Y</td>\n",
       "      <td>Great for what we paid!</td>\n",
       "      <td>We took it with us to Cancun. My husband took ...</td>\n",
       "      <td>1</td>\n",
       "    </tr>\n",
       "    <tr>\n",
       "      <th>3</th>\n",
       "      <td>B000EB7OTU</td>\n",
       "      <td>5</td>\n",
       "      <td>0</td>\n",
       "      <td>1</td>\n",
       "      <td>N</td>\n",
       "      <td>Great Bag</td>\n",
       "      <td>This bag is perfect for our nikon d80.  It has...</td>\n",
       "      <td>1</td>\n",
       "    </tr>\n",
       "    <tr>\n",
       "      <th>4</th>\n",
       "      <td>B00MIB0JG4</td>\n",
       "      <td>1</td>\n",
       "      <td>0</td>\n",
       "      <td>0</td>\n",
       "      <td>Y</td>\n",
       "      <td>CRAP Don't waist the time and money</td>\n",
       "      <td>Crapy cheap plastic, leg broke the second I to...</td>\n",
       "      <td>0</td>\n",
       "    </tr>\n",
       "  </tbody>\n",
       "</table>\n",
       "</div>"
      ],
      "text/plain": [
       "   product_id  star_rating  helpful_votes  total_votes verified_purchase  \\\n",
       "0  B000U92DLA            5              6            6                 Y   \n",
       "1  B0008GCYNW            3             15           17                 Y   \n",
       "2  B003CZ7L84            4              1            1                 Y   \n",
       "3  B000EB7OTU            5              0            1                 N   \n",
       "4  B00MIB0JG4            1              0            0                 Y   \n",
       "\n",
       "                       review_headline  \\\n",
       "0                 A Must For On The Go   \n",
       "1         The Good and the Not-so Good   \n",
       "2              Great for what we paid!   \n",
       "3                            Great Bag   \n",
       "4  CRAP Don't waist the time and money   \n",
       "\n",
       "                                         review_body  pos_neg  \n",
       "0  Purchased the charger from Nextop2100, arrived...        1  \n",
       "1  I was attracted to this camera for three reaso...        0  \n",
       "2  We took it with us to Cancun. My husband took ...        1  \n",
       "3  This bag is perfect for our nikon d80.  It has...        1  \n",
       "4  Crapy cheap plastic, leg broke the second I to...        0  "
      ]
     },
     "execution_count": 8,
     "metadata": {},
     "output_type": "execute_result"
    }
   ],
   "source": [
    "small_df_selectedFeatures.head(5)"
   ]
  },
  {
   "cell_type": "code",
   "execution_count": 9,
   "metadata": {},
   "outputs": [
    {
     "name": "stdout",
     "output_type": "stream",
     "text": [
      "# features: 26179\n",
      "k-NN accuracy for test set: 0.794188\n"
     ]
    }
   ],
   "source": [
    "# CountVectorizer -> 應該是 bag of word? 不知道我有沒有理解錯誤\n",
    "\n",
    "def word_counts_featurizer(data):\n",
    "    model = CountVectorizer()  # Convert a collection of text documents to a matrix of token counts\n",
    "    X = model.fit_transform(data)\n",
    "    print('# features: {}'.format(X.shape[1]))\n",
    "    return X\n",
    "\n",
    "def KNN(X_train, Y_train, X_test, Y_test, n_neighbors):\n",
    "    knn = KNeighborsClassifier(n_neighbors = n_neighbors)\n",
    "    knn_model_1 = knn.fit(X_train, Y_train)\n",
    "    print('k-NN accuracy for test set: %f' % knn_model_1.score(X_test, Y_test))\n",
    "\n",
    "small_X = word_counts_featurizer(small_df_selectedFeatures['review_body'])\n",
    "small_Y = small_df_selectedFeatures['pos_neg']\n",
    "small_X_train, small_X_test, small_Y_train, small_Y_test = train_test_split(small_X, small_Y, test_size=0.3, random_state=0)\n",
    "KNN(small_X_train, small_Y_train, small_X_test, small_Y_test, n_neighbors=5)"
   ]
  },
  {
   "cell_type": "code",
   "execution_count": 13,
   "metadata": {},
   "outputs": [
    {
     "name": "stderr",
     "output_type": "stream",
     "text": [
      "C:\\Users\\Public\\Miniconda3\\envs\\nlu\\lib\\site-packages\\ipykernel_launcher.py:5: SettingWithCopyWarning: \n",
      "A value is trying to be set on a copy of a slice from a DataFrame.\n",
      "Try using .loc[row_indexer,col_indexer] = value instead\n",
      "\n",
      "See the caveats in the documentation: https://pandas.pydata.org/pandas-docs/stable/user_guide/indexing.html#returning-a-view-versus-a-copy\n",
      "  \"\"\"\n",
      "C:\\Users\\Public\\Miniconda3\\envs\\nlu\\lib\\site-packages\\ipykernel_launcher.py:8: SettingWithCopyWarning: \n",
      "A value is trying to be set on a copy of a slice from a DataFrame.\n",
      "Try using .loc[row_indexer,col_indexer] = value instead\n",
      "\n",
      "See the caveats in the documentation: https://pandas.pydata.org/pandas-docs/stable/user_guide/indexing.html#returning-a-view-versus-a-copy\n",
      "  \n",
      "C:\\Users\\Public\\Miniconda3\\envs\\nlu\\lib\\site-packages\\ipykernel_launcher.py:9: SettingWithCopyWarning: \n",
      "A value is trying to be set on a copy of a slice from a DataFrame.\n",
      "Try using .loc[row_indexer,col_indexer] = value instead\n",
      "\n",
      "See the caveats in the documentation: https://pandas.pydata.org/pandas-docs/stable/user_guide/indexing.html#returning-a-view-versus-a-copy\n",
      "  if __name__ == '__main__':\n"
     ]
    },
    {
     "data": {
      "text/html": [
       "<div>\n",
       "<style scoped>\n",
       "    .dataframe tbody tr th:only-of-type {\n",
       "        vertical-align: middle;\n",
       "    }\n",
       "\n",
       "    .dataframe tbody tr th {\n",
       "        vertical-align: top;\n",
       "    }\n",
       "\n",
       "    .dataframe thead th {\n",
       "        text-align: right;\n",
       "    }\n",
       "</style>\n",
       "<table border=\"1\" class=\"dataframe\">\n",
       "  <thead>\n",
       "    <tr style=\"text-align: right;\">\n",
       "      <th></th>\n",
       "      <th>product_id</th>\n",
       "      <th>star_rating</th>\n",
       "      <th>helpful_votes</th>\n",
       "      <th>total_votes</th>\n",
       "      <th>verified_purchase</th>\n",
       "      <th>review_headline</th>\n",
       "      <th>review_body</th>\n",
       "      <th>pos_neg</th>\n",
       "      <th>review_body_1</th>\n",
       "      <th>review_body_2</th>\n",
       "    </tr>\n",
       "  </thead>\n",
       "  <tbody>\n",
       "    <tr>\n",
       "      <th>0</th>\n",
       "      <td>B000U92DLA</td>\n",
       "      <td>5</td>\n",
       "      <td>6</td>\n",
       "      <td>6</td>\n",
       "      <td>Y</td>\n",
       "      <td>A Must For On The Go</td>\n",
       "      <td>Purchased the charger from Nextop2100, arrived...</td>\n",
       "      <td>1</td>\n",
       "      <td>&lt;s&gt; Purchased the charger from Nextop2100, arr...</td>\n",
       "      <td>[&lt;s&gt;, purchased, the, charger, from, nextop210...</td>\n",
       "    </tr>\n",
       "    <tr>\n",
       "      <th>1</th>\n",
       "      <td>B0008GCYNW</td>\n",
       "      <td>3</td>\n",
       "      <td>15</td>\n",
       "      <td>17</td>\n",
       "      <td>Y</td>\n",
       "      <td>The Good and the Not-so Good</td>\n",
       "      <td>I was attracted to this camera for three reaso...</td>\n",
       "      <td>0</td>\n",
       "      <td>&lt;s&gt; I was attracted to this camera for three r...</td>\n",
       "      <td>[&lt;s&gt;, i, was, attracted, to, this, camera, for...</td>\n",
       "    </tr>\n",
       "    <tr>\n",
       "      <th>2</th>\n",
       "      <td>B003CZ7L84</td>\n",
       "      <td>4</td>\n",
       "      <td>1</td>\n",
       "      <td>1</td>\n",
       "      <td>Y</td>\n",
       "      <td>Great for what we paid!</td>\n",
       "      <td>We took it with us to Cancun. My husband took ...</td>\n",
       "      <td>1</td>\n",
       "      <td>&lt;s&gt; We took it with us to Cancun. My husband t...</td>\n",
       "      <td>[&lt;s&gt;, we, took, it, with, us, to, cancun., my,...</td>\n",
       "    </tr>\n",
       "  </tbody>\n",
       "</table>\n",
       "</div>"
      ],
      "text/plain": [
       "   product_id  star_rating  helpful_votes  total_votes verified_purchase  \\\n",
       "0  B000U92DLA            5              6            6                 Y   \n",
       "1  B0008GCYNW            3             15           17                 Y   \n",
       "2  B003CZ7L84            4              1            1                 Y   \n",
       "\n",
       "                review_headline  \\\n",
       "0          A Must For On The Go   \n",
       "1  The Good and the Not-so Good   \n",
       "2       Great for what we paid!   \n",
       "\n",
       "                                         review_body  pos_neg  \\\n",
       "0  Purchased the charger from Nextop2100, arrived...        1   \n",
       "1  I was attracted to this camera for three reaso...        0   \n",
       "2  We took it with us to Cancun. My husband took ...        1   \n",
       "\n",
       "                                       review_body_1  \\\n",
       "0  <s> Purchased the charger from Nextop2100, arr...   \n",
       "1  <s> I was attracted to this camera for three r...   \n",
       "2  <s> We took it with us to Cancun. My husband t...   \n",
       "\n",
       "                                       review_body_2  \n",
       "0  [<s>, purchased, the, charger, from, nextop210...  \n",
       "1  [<s>, i, was, attracted, to, this, camera, for...  \n",
       "2  [<s>, we, took, it, with, us, to, cancun., my,...  "
      ]
     },
     "execution_count": 13,
     "metadata": {},
     "output_type": "execute_result"
    }
   ],
   "source": [
    "# 從這個cell開始, 我主要是想要create a new column. \n",
    "# 這個新col 內容和 review_body 一樣, 只是經過一些處理, 例如remove punctuation, lower the case and then split\n",
    "\n",
    "def text_processing(data):\n",
    "    data['review_body'] = data['review_body'].astype(str)\n",
    "\n",
    "    #lower the case and then split\n",
    "    data['review_body_1'] = START_SYMBOL + ' ' + data['review_body'] + ' ' +  END_SYMBOL\n",
    "    data['review_body_2'] = data['review_body_1'].str.lower().str.split(' ', expand = False) \n",
    "    data.drop(['review_body_1'], axis=1)\n",
    "    return data\n",
    "\n",
    "# Note: if we want to remove punctuation, can use: df['col_name'].str.replace('[^\\w\\s]','') \n",
    "small_df_selectedFeatures = text_processing(small_df_selectedFeatures)\n",
    "small_df_selectedFeatures.head(3)"
   ]
  },
  {
   "cell_type": "code",
   "execution_count": 15,
   "metadata": {},
   "outputs": [
    {
     "name": "stdout",
     "output_type": "stream",
     "text": [
      "small training dataset:  (12605, 10)\n",
      "smalle test dataset:  (5403, 10)\n"
     ]
    }
   ],
   "source": [
    "# train, test = train_test_split(df, test_size=0.3)\n",
    "# print('training dataset: ', train.shape)\n",
    "# print('test dataset: ', test.shape)\n",
    "\n",
    "small_train, small_test = train_test_split(small_df_selectedFeatures, test_size=0.3, random_state=0)\n",
    "print('small training dataset: ', small_train.shape)\n",
    "print('smalle test dataset: ', small_test.shape)\n"
   ]
  },
  {
   "cell_type": "code",
   "execution_count": 16,
   "metadata": {},
   "outputs": [
    {
     "name": "stdout",
     "output_type": "stream",
     "text": [
      "52442\n"
     ]
    }
   ],
   "source": [
    "# 這邊是仿造 HW4 Q1 部分, 不過還沒研究怎麼套用到老師寫的model裡\n",
    "\n",
    "small_train_text = small_train['review_body_2'].values.tolist()\n",
    "small_train_vocab = sorted(set([item for sublist in small_train_text for item in sublist])) + [UNK_SYMBOL]\n",
    "\n",
    "print(len(small_train_vocab))\n"
   ]
  },
  {
   "cell_type": "code",
   "execution_count": null,
   "metadata": {},
   "outputs": [],
   "source": []
  }
 ],
 "metadata": {
  "kernelspec": {
   "display_name": "nlu",
   "language": "python",
   "name": "nlu"
  },
  "language_info": {
   "codemirror_mode": {
    "name": "ipython",
    "version": 3
   },
   "file_extension": ".py",
   "mimetype": "text/x-python",
   "name": "python",
   "nbconvert_exporter": "python",
   "pygments_lexer": "ipython3",
   "version": "3.7.7"
  }
 },
 "nbformat": 4,
 "nbformat_minor": 4
}
