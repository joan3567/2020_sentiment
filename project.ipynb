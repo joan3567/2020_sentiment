{
 "cells": [
  {
   "cell_type": "code",
   "execution_count": 31,
   "metadata": {},
   "outputs": [],
   "source": [
    "from collections import defaultdict\n",
    "import json\n",
    "import numpy as np\n",
    "import os\n",
    "import pandas as pd\n",
    "import csv\n"
   ]
  },
  {
   "cell_type": "code",
   "execution_count": 14,
   "metadata": {},
   "outputs": [],
   "source": [
    "DATA_HOME = 'data'\n",
    "\n",
    "REVIEWDATA_HOME = os.path.join(DATA_HOME, 'amazon_reviews_us_Camera_v1_00.tsv')\n",
    "\n",
    "test = os.path.join(DATA_HOME, 'cs224u-colors-bakeoff-data.csv')\n",
    "\n",
    "\n",
    "# GLOVE_HOME = os.path.join(DATA_HOME, 'glove.6B')\n"
   ]
  },
  {
   "cell_type": "code",
   "execution_count": 64,
   "metadata": {},
   "outputs": [
    {
     "name": "stdout",
     "output_type": "stream",
     "text": [
      "US\t15052175\tR3KRCUKNK1RTUR\tB007A2X6SO\t375455140\tdCables Nikon CoolPix S6300 Battery Charger - Wall & Travel Charger for CoolPix S6300\tCamera\t5\t0\t0\tN\tY\tCharge in both worlds.\tThis particular set had not only the AC cort for charging but a 12v. Cord. This was unexpected and will be usefull.\t2015-07-12\n",
      "\n",
      "['US', '15052175', 'R3KRCUKNK1RTUR', 'B007A2X6SO', '375455140', 'dCables Nikon CoolPix S6300 Battery Charger - Wall & Travel Charger for CoolPix S6300', 'Camera', '5', '0', '0', 'N', 'Y', 'Charge in both worlds.', 'This particular set had not only the AC cort for charging but a 12v. Cord. This was unexpected and will be usefull.', '2015-07-12\\n']\n",
      "15\n"
     ]
    },
    {
     "data": {
      "text/plain": [
       "1801975"
      ]
     },
     "execution_count": 64,
     "metadata": {},
     "output_type": "execute_result"
    }
   ],
   "source": [
    "coutns = 0\n",
    "with open(REVIEWDATA_HOME, encoding=\"utf-8\") as f:\n",
    "    for line in f:\n",
    "        coutns += 1\n",
    "        if coutns == 91161:\n",
    "            lst = line.split('\\t')\n",
    "            print(line)\n",
    "            print(lst)\n",
    "            print(len(lst))\n",
    "coutns"
   ]
  },
  {
   "cell_type": "code",
   "execution_count": 65,
   "metadata": {},
   "outputs": [],
   "source": [
    "# tsv_file = open(REVIEWDATA_HOME, encoding=\"utf-8\")\n",
    "# read_tsv = csv.reader(tsv_file, delimiter=\"\\t\")\n",
    "# read_tsv = pd.read_csv(tsv_file, sep=\"\\t\")\n",
    "# df = pd.DataFrame(read_tsv)"
   ]
  },
  {
   "cell_type": "code",
   "execution_count": 38,
   "metadata": {},
   "outputs": [
    {
     "name": "stdout",
     "output_type": "stream",
     "text": [
      "1800887\n"
     ]
    }
   ],
   "source": [
    "# count = 0\n",
    "# for row in read_tsv:\n",
    "#   count += 1\n",
    "# print(counts)"
   ]
  },
  {
   "cell_type": "code",
   "execution_count": 68,
   "metadata": {},
   "outputs": [],
   "source": [
    "df = pd.read_csv(REVIEWDATA_HOME, sep='\\t',error_bad_lines=False, warn_bad_lines=False)\n",
    "\n",
    "# pd.read_csv(open(REVIEWDATA_HOME,'r'), header=None,encoding='utf-8', engine='c')  #"
   ]
  },
  {
   "cell_type": "code",
   "execution_count": 69,
   "metadata": {},
   "outputs": [
    {
     "data": {
      "text/plain": [
       "['marketplace',\n",
       " 'customer_id',\n",
       " 'review_id',\n",
       " 'product_id',\n",
       " 'product_parent',\n",
       " 'product_title',\n",
       " 'product_category',\n",
       " 'star_rating',\n",
       " 'helpful_votes',\n",
       " 'total_votes',\n",
       " 'vine',\n",
       " 'verified_purchase',\n",
       " 'review_headline',\n",
       " 'review_body',\n",
       " 'review_date']"
      ]
     },
     "execution_count": 69,
     "metadata": {},
     "output_type": "execute_result"
    }
   ],
   "source": [
    "df.columns.tolist()"
   ]
  },
  {
   "cell_type": "code",
   "execution_count": 73,
   "metadata": {},
   "outputs": [
    {
     "data": {
      "text/html": [
       "<div>\n",
       "<style scoped>\n",
       "    .dataframe tbody tr th:only-of-type {\n",
       "        vertical-align: middle;\n",
       "    }\n",
       "\n",
       "    .dataframe tbody tr th {\n",
       "        vertical-align: top;\n",
       "    }\n",
       "\n",
       "    .dataframe thead th {\n",
       "        text-align: right;\n",
       "    }\n",
       "</style>\n",
       "<table border=\"1\" class=\"dataframe\">\n",
       "  <thead>\n",
       "    <tr style=\"text-align: right;\">\n",
       "      <th></th>\n",
       "      <th>product_id</th>\n",
       "      <th>star_rating</th>\n",
       "      <th>helpful_votes</th>\n",
       "      <th>total_votes</th>\n",
       "      <th>verified_purchase</th>\n",
       "      <th>review_headline</th>\n",
       "      <th>review_body</th>\n",
       "    </tr>\n",
       "  </thead>\n",
       "  <tbody>\n",
       "    <tr>\n",
       "      <th>0</th>\n",
       "      <td>B00I01JQJM</td>\n",
       "      <td>5</td>\n",
       "      <td>0</td>\n",
       "      <td>0</td>\n",
       "      <td>Y</td>\n",
       "      <td>Five Stars</td>\n",
       "      <td>ok</td>\n",
       "    </tr>\n",
       "    <tr>\n",
       "      <th>1</th>\n",
       "      <td>B00TCO0ZAA</td>\n",
       "      <td>5</td>\n",
       "      <td>0</td>\n",
       "      <td>0</td>\n",
       "      <td>Y</td>\n",
       "      <td>Love it!!!</td>\n",
       "      <td>Perfect, even sturdier than the original!</td>\n",
       "    </tr>\n",
       "    <tr>\n",
       "      <th>2</th>\n",
       "      <td>B00B7733E0</td>\n",
       "      <td>2</td>\n",
       "      <td>1</td>\n",
       "      <td>1</td>\n",
       "      <td>Y</td>\n",
       "      <td>Another Motion Detect Fail</td>\n",
       "      <td>If the words, &amp;#34;Cheap Chinese Junk&amp;#34; com...</td>\n",
       "    </tr>\n",
       "    <tr>\n",
       "      <th>3</th>\n",
       "      <td>B006ZN4U34</td>\n",
       "      <td>5</td>\n",
       "      <td>0</td>\n",
       "      <td>0</td>\n",
       "      <td>Y</td>\n",
       "      <td>Exactly what I wanted and expected.</td>\n",
       "      <td>Exactly what I wanted and expected. Perfect fo...</td>\n",
       "    </tr>\n",
       "    <tr>\n",
       "      <th>4</th>\n",
       "      <td>B00HUEBGMU</td>\n",
       "      <td>5</td>\n",
       "      <td>1</td>\n",
       "      <td>1</td>\n",
       "      <td>Y</td>\n",
       "      <td>Good mic at a Good Price...Not Canon Though.</td>\n",
       "      <td>I will look past the fact that they tricked me...</td>\n",
       "    </tr>\n",
       "    <tr>\n",
       "      <th>...</th>\n",
       "      <td>...</td>\n",
       "      <td>...</td>\n",
       "      <td>...</td>\n",
       "      <td>...</td>\n",
       "      <td>...</td>\n",
       "      <td>...</td>\n",
       "      <td>...</td>\n",
       "    </tr>\n",
       "    <tr>\n",
       "      <th>1800840</th>\n",
       "      <td>B00000DM93</td>\n",
       "      <td>5</td>\n",
       "      <td>24</td>\n",
       "      <td>25</td>\n",
       "      <td>N</td>\n",
       "      <td>Compact, easy to use, and great pictures!</td>\n",
       "      <td>I bought this camera to take on my trip to Eur...</td>\n",
       "    </tr>\n",
       "    <tr>\n",
       "      <th>1800841</th>\n",
       "      <td>B00000DM93</td>\n",
       "      <td>5</td>\n",
       "      <td>3</td>\n",
       "      <td>17</td>\n",
       "      <td>N</td>\n",
       "      <td>timur</td>\n",
       "      <td>hello menya zavut Timurlan. ya ce iz k\u001arg\u001azist...</td>\n",
       "    </tr>\n",
       "    <tr>\n",
       "      <th>1800842</th>\n",
       "      <td>B00000DM93</td>\n",
       "      <td>5</td>\n",
       "      <td>2</td>\n",
       "      <td>5</td>\n",
       "      <td>N</td>\n",
       "      <td>a very small, but very good camera !!</td>\n",
       "      <td>I've token about 1000 picture's with this came...</td>\n",
       "    </tr>\n",
       "    <tr>\n",
       "      <th>1800843</th>\n",
       "      <td>B00000DM96</td>\n",
       "      <td>5</td>\n",
       "      <td>43</td>\n",
       "      <td>46</td>\n",
       "      <td>N</td>\n",
       "      <td>Exceptional Cameras</td>\n",
       "      <td>My wife and I began using the stylus series ye...</td>\n",
       "    </tr>\n",
       "    <tr>\n",
       "      <th>1800844</th>\n",
       "      <td>B00000DM96</td>\n",
       "      <td>5</td>\n",
       "      <td>57</td>\n",
       "      <td>61</td>\n",
       "      <td>N</td>\n",
       "      <td>Excellent Camera</td>\n",
       "      <td>My husband and I bought this camera and took i...</td>\n",
       "    </tr>\n",
       "  </tbody>\n",
       "</table>\n",
       "<p>1800845 rows × 7 columns</p>\n",
       "</div>"
      ],
      "text/plain": [
       "         product_id  star_rating  helpful_votes  total_votes  \\\n",
       "0        B00I01JQJM            5              0            0   \n",
       "1        B00TCO0ZAA            5              0            0   \n",
       "2        B00B7733E0            2              1            1   \n",
       "3        B006ZN4U34            5              0            0   \n",
       "4        B00HUEBGMU            5              1            1   \n",
       "...             ...          ...            ...          ...   \n",
       "1800840  B00000DM93            5             24           25   \n",
       "1800841  B00000DM93            5              3           17   \n",
       "1800842  B00000DM93            5              2            5   \n",
       "1800843  B00000DM96            5             43           46   \n",
       "1800844  B00000DM96            5             57           61   \n",
       "\n",
       "        verified_purchase                               review_headline  \\\n",
       "0                       Y                                    Five Stars   \n",
       "1                       Y                                    Love it!!!   \n",
       "2                       Y                    Another Motion Detect Fail   \n",
       "3                       Y           Exactly what I wanted and expected.   \n",
       "4                       Y  Good mic at a Good Price...Not Canon Though.   \n",
       "...                   ...                                           ...   \n",
       "1800840                 N     Compact, easy to use, and great pictures!   \n",
       "1800841                 N                                         timur   \n",
       "1800842                 N         a very small, but very good camera !!   \n",
       "1800843                 N                           Exceptional Cameras   \n",
       "1800844                 N                              Excellent Camera   \n",
       "\n",
       "                                               review_body  \n",
       "0                                                       ok  \n",
       "1                Perfect, even sturdier than the original!  \n",
       "2        If the words, &#34;Cheap Chinese Junk&#34; com...  \n",
       "3        Exactly what I wanted and expected. Perfect fo...  \n",
       "4        I will look past the fact that they tricked me...  \n",
       "...                                                    ...  \n",
       "1800840  I bought this camera to take on my trip to Eur...  \n",
       "1800841  hello menya zavut Timurlan. ya ce iz k\u001arg\u001azist...  \n",
       "1800842  I've token about 1000 picture's with this came...  \n",
       "1800843  My wife and I began using the stylus series ye...  \n",
       "1800844  My husband and I bought this camera and took i...  \n",
       "\n",
       "[1800845 rows x 7 columns]"
      ]
     },
     "execution_count": 73,
     "metadata": {},
     "output_type": "execute_result"
    }
   ],
   "source": [
    "reduced_df = df[['product_id', 'star_rating', 'helpful_votes', 'total_votes', 'verified_purchase', 'review_headline', 'review_body']]\n",
    "reduced_df"
   ]
  },
  {
   "cell_type": "code",
   "execution_count": null,
   "metadata": {},
   "outputs": [],
   "source": []
  }
 ],
 "metadata": {
  "kernelspec": {
   "display_name": "nlu",
   "language": "python",
   "name": "nlu"
  },
  "language_info": {
   "codemirror_mode": {
    "name": "ipython",
    "version": 3
   },
   "file_extension": ".py",
   "mimetype": "text/x-python",
   "name": "python",
   "nbconvert_exporter": "python",
   "pygments_lexer": "ipython3",
   "version": "3.7.7"
  }
 },
 "nbformat": 4,
 "nbformat_minor": 4
}
